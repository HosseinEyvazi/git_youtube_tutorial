{
 "cells": [
  {
   "cell_type": "markdown",
   "metadata": {},
   "source": [
    "Spam Detection: Build a machine learning model that can detect whether an email is spam or not based on its contents.\n"
   ]
  },
  {
   "cell_type": "code",
   "execution_count": 65,
   "metadata": {},
   "outputs": [],
   "source": [
    "import pandas as pd \n",
    "import matplotlib.pyplot as plt \n",
    "from nltk.corpus import stopwords\n",
    "from nltk.stem import PorterStemmer\n",
    "import re\n",
    "from sklearn.feature_extraction.text import TfidfVectorizer\n",
    "from sklearn.naive_bayes import MultinomialNB\n",
    "from sklearn.linear_model import LogisticRegression\n",
    "from sklearn.ensemble import RandomForestClassifier\n",
    "from sklearn.svm import SVC\n",
    "from sklearn.neural_network import MLPClassifier\n",
    "from sklearn.model_selection import train_test_split\n",
    "from sklearn.metrics import confusion_matrix, accuracy_score, precision_score, recall_score"
   ]
  },
  {
   "cell_type": "code",
   "execution_count": 3,
   "metadata": {},
   "outputs": [],
   "source": [
    "df = pd.read_csv('data/SPAM text message 20170820 - Data.csv')"
   ]
  },
  {
   "cell_type": "code",
   "execution_count": 5,
   "metadata": {},
   "outputs": [
    {
     "data": {
      "text/html": [
       "<div>\n",
       "<style scoped>\n",
       "    .dataframe tbody tr th:only-of-type {\n",
       "        vertical-align: middle;\n",
       "    }\n",
       "\n",
       "    .dataframe tbody tr th {\n",
       "        vertical-align: top;\n",
       "    }\n",
       "\n",
       "    .dataframe thead th {\n",
       "        text-align: right;\n",
       "    }\n",
       "</style>\n",
       "<table border=\"1\" class=\"dataframe\">\n",
       "  <thead>\n",
       "    <tr style=\"text-align: right;\">\n",
       "      <th></th>\n",
       "      <th>Category</th>\n",
       "      <th>Message</th>\n",
       "    </tr>\n",
       "  </thead>\n",
       "  <tbody>\n",
       "    <tr>\n",
       "      <th>0</th>\n",
       "      <td>ham</td>\n",
       "      <td>Go until jurong point, crazy.. Available only ...</td>\n",
       "    </tr>\n",
       "    <tr>\n",
       "      <th>1</th>\n",
       "      <td>ham</td>\n",
       "      <td>Ok lar... Joking wif u oni...</td>\n",
       "    </tr>\n",
       "    <tr>\n",
       "      <th>2</th>\n",
       "      <td>spam</td>\n",
       "      <td>Free entry in 2 a wkly comp to win FA Cup fina...</td>\n",
       "    </tr>\n",
       "    <tr>\n",
       "      <th>3</th>\n",
       "      <td>ham</td>\n",
       "      <td>U dun say so early hor... U c already then say...</td>\n",
       "    </tr>\n",
       "    <tr>\n",
       "      <th>4</th>\n",
       "      <td>ham</td>\n",
       "      <td>Nah I don't think he goes to usf, he lives aro...</td>\n",
       "    </tr>\n",
       "  </tbody>\n",
       "</table>\n",
       "</div>"
      ],
      "text/plain": [
       "  Category                                            Message\n",
       "0      ham  Go until jurong point, crazy.. Available only ...\n",
       "1      ham                      Ok lar... Joking wif u oni...\n",
       "2     spam  Free entry in 2 a wkly comp to win FA Cup fina...\n",
       "3      ham  U dun say so early hor... U c already then say...\n",
       "4      ham  Nah I don't think he goes to usf, he lives aro..."
      ]
     },
     "execution_count": 5,
     "metadata": {},
     "output_type": "execute_result"
    }
   ],
   "source": [
    "df.head()"
   ]
  },
  {
   "cell_type": "code",
   "execution_count": 6,
   "metadata": {},
   "outputs": [
    {
     "data": {
      "text/plain": [
       "(5572, 2)"
      ]
     },
     "execution_count": 6,
     "metadata": {},
     "output_type": "execute_result"
    }
   ],
   "source": [
    "df.shape"
   ]
  },
  {
   "cell_type": "code",
   "execution_count": 7,
   "metadata": {},
   "outputs": [],
   "source": [
    "df.replace({'ham':0, 'spam':1}, inplace=True)"
   ]
  },
  {
   "cell_type": "code",
   "execution_count": 10,
   "metadata": {},
   "outputs": [
    {
     "data": {
      "text/plain": [
       "Category     int64\n",
       "Message     object\n",
       "dtype: object"
      ]
     },
     "execution_count": 10,
     "metadata": {},
     "output_type": "execute_result"
    }
   ],
   "source": [
    "df.dtypes"
   ]
  },
  {
   "cell_type": "code",
   "execution_count": 12,
   "metadata": {},
   "outputs": [
    {
     "data": {
      "text/plain": [
       "Category\n",
       "0    4825\n",
       "1     747\n",
       "Name: count, dtype: int64"
      ]
     },
     "execution_count": 12,
     "metadata": {},
     "output_type": "execute_result"
    }
   ],
   "source": [
    "df_cat_count = df['Category'].value_counts()\n",
    "df_cat_count"
   ]
  },
  {
   "cell_type": "code",
   "execution_count": 16,
   "metadata": {},
   "outputs": [
    {
     "data": {
      "image/png": "[encoded data removed]",
      "text/plain": [
       "<Figure size 640x480 with 1 Axes>"
      ]
     },
     "metadata": {},
     "output_type": "display_data"
    }
   ],
   "source": [
    "df_cat_count.plot(kind='bar', color=['blue', 'yellow'])\n",
    "plt.show()"
   ]
  },
  {
   "cell_type": "code",
   "execution_count": 17,
   "metadata": {},
   "outputs": [
    {
     "data": {
      "text/plain": [
       "'Go until jurong point, crazy.. Available only in bugis n great world la e buffet... Cine there got amore wat...'"
      ]
     },
     "execution_count": 17,
     "metadata": {},
     "output_type": "execute_result"
    }
   ],
   "source": [
    "df.Message[0]"
   ]
  },
  {
   "cell_type": "code",
   "execution_count": 18,
   "metadata": {},
   "outputs": [],
   "source": [
    "stemmer = PorterStemmer()\n",
    "corpus = [] "
   ]
  },
  {
   "cell_type": "code",
   "execution_count": 19,
   "metadata": {},
   "outputs": [],
   "source": [
    "def corpus_preprocessor(corpus):\n",
    "\n",
    "    for i in range(len(df.Message)):\n",
    "\n",
    "        review = re.sub('[^a-zA-Z]', ' ', df.Message[i])\n",
    "        review = review.lower()\n",
    "        review = review.split()\n",
    "\n",
    "        review = [stemmer.stem(word) for word in review if not word in stopwords.words('english')]\n",
    "        review = ' '.join(review)\n",
    "        corpus.append(review)"
   ]
  },
  {
   "cell_type": "code",
   "execution_count": 21,
   "metadata": {},
   "outputs": [
    {
     "data": {
      "text/plain": [
       "'go jurong point crazi avail bugi n great world la e buffet cine got amor wat'"
      ]
     },
     "execution_count": 21,
     "metadata": {},
     "output_type": "execute_result"
    }
   ],
   "source": [
    "corpus_preprocessor(corpus)\n",
    "corpus[0]"
   ]
  },
  {
   "cell_type": "code",
   "execution_count": 22,
   "metadata": {},
   "outputs": [
    {
     "data": {
      "text/plain": [
       "5572"
      ]
     },
     "execution_count": 22,
     "metadata": {},
     "output_type": "execute_result"
    }
   ],
   "source": [
    "len(corpus)"
   ]
  },
  {
   "cell_type": "code",
   "execution_count": 23,
   "metadata": {},
   "outputs": [],
   "source": [
    "tf = TfidfVectorizer()"
   ]
  },
  {
   "cell_type": "code",
   "execution_count": 29,
   "metadata": {},
   "outputs": [],
   "source": [
    "tf.fit(corpus)\n",
    "x = tf.fit_transform(corpus).toarray()"
   ]
  },
  {
   "cell_type": "code",
   "execution_count": 31,
   "metadata": {},
   "outputs": [
    {
     "name": "stdout",
     "output_type": "stream",
     "text": [
      "[0. 0. 0. ... 0. 0. 0.]\n"
     ]
    }
   ],
   "source": [
    "print(x[3])"
   ]
  },
  {
   "cell_type": "code",
   "execution_count": 33,
   "metadata": {},
   "outputs": [],
   "source": [
    "y= df.Category"
   ]
  },
  {
   "cell_type": "code",
   "execution_count": 35,
   "metadata": {},
   "outputs": [
    {
     "data": {
      "text/plain": [
       "{'go': 2171,\n",
       " 'jurong': 2827,\n",
       " 'point': 4091,\n",
       " 'crazi': 1169,\n",
       " 'avail': 379,\n",
       " 'bugi': 738,\n",
       " 'great': 2245,\n",
       " 'world': 6135,\n",
       " 'la': 2932,\n",
       " 'buffet': 736,\n",
       " 'cine': 964,\n",
       " 'got': 2208,\n",
       " 'amor': 190,\n",
       " 'wat': 5957,\n",
       " 'ok': 3760,\n",
       " 'lar': 2960,\n",
       " 'joke': 2794,\n",
       " 'wif': 6056,\n",
       " 'oni': 3785,\n",
       " 'free': 2007,\n",
       " 'entri': 1673,\n",
       " 'wkli': 6101,\n",
       " 'comp': 1058,\n",
       " 'win': 6067,\n",
       " 'fa': 1791,\n",
       " 'cup': 1220,\n",
       " 'final': 1890,\n",
       " 'tkt': 5536,\n",
       " 'st': 5103,\n",
       " 'may': 3276,\n",
       " 'text': 5420,\n",
       " 'receiv': 4402,\n",
       " 'question': 4319,\n",
       " 'std': 5131,\n",
       " 'txt': 5695,\n",
       " 'rate': 4364,\n",
       " 'appli': 262,\n",
       " 'dun': 1551,\n",
       " 'say': 4651,\n",
       " 'earli': 1568,\n",
       " 'hor': 2477,\n",
       " 'alreadi': 163,\n",
       " 'nah': 3532,\n",
       " 'think': 5468,\n",
       " 'goe': 2175,\n",
       " 'usf': 5811,\n",
       " 'live': 3070,\n",
       " 'around': 302,\n",
       " 'though': 5485,\n",
       " 'freemsg': 2013,\n",
       " 'hey': 2408,\n",
       " 'darl': 1267,\n",
       " 'week': 5992,\n",
       " 'word': 6129,\n",
       " 'back': 414,\n",
       " 'like': 3042,\n",
       " 'fun': 2059,\n",
       " 'still': 5152,\n",
       " 'tb': 5367,\n",
       " 'xxx': 6202,\n",
       " 'chg': 922,\n",
       " 'send': 4721,\n",
       " 'rcv': 4375,\n",
       " 'even': 1722,\n",
       " 'brother': 710,\n",
       " 'speak': 5037,\n",
       " 'treat': 5638,\n",
       " 'aid': 118,\n",
       " 'patent': 3936,\n",
       " 'per': 3972,\n",
       " 'request': 4473,\n",
       " 'mell': 3306,\n",
       " 'oru': 3832,\n",
       " 'minnaminungint': 3361,\n",
       " 'nurungu': 3708,\n",
       " 'vettam': 5859,\n",
       " 'set': 4742,\n",
       " 'callertun': 789,\n",
       " 'caller': 788,\n",
       " 'press': 4191,\n",
       " 'copi': 1126,\n",
       " 'friend': 2026,\n",
       " 'winner': 6075,\n",
       " 'valu': 5833,\n",
       " 'network': 3599,\n",
       " 'custom': 1231,\n",
       " 'select': 4710,\n",
       " 'receivea': 4403,\n",
       " 'prize': 4219,\n",
       " 'reward': 4507,\n",
       " 'claim': 972,\n",
       " 'call': 784,\n",
       " 'code': 1025,\n",
       " 'kl': 2904,\n",
       " 'valid': 5832,\n",
       " 'hour': 2492,\n",
       " 'mobil': 3407,\n",
       " 'month': 3436,\n",
       " 'entitl': 1671,\n",
       " 'updat': 5781,\n",
       " 'latest': 2972,\n",
       " 'colour': 1041,\n",
       " 'camera': 797,\n",
       " 'co': 1014,\n",
       " 'gonna': 2189,\n",
       " 'home': 2457,\n",
       " 'soon': 5002,\n",
       " 'want': 5945,\n",
       " 'talk': 5339,\n",
       " 'stuff': 5206,\n",
       " 'anymor': 233,\n",
       " 'tonight': 5581,\n",
       " 'cri': 1180,\n",
       " 'enough': 1665,\n",
       " 'today': 5553,\n",
       " 'six': 4885,\n",
       " 'chanc': 879,\n",
       " 'cash': 837,\n",
       " 'pound': 4137,\n",
       " 'csh': 1199,\n",
       " 'cost': 1136,\n",
       " 'day': 1279,\n",
       " 'tsandc': 5665,\n",
       " 'repli': 4468,\n",
       " 'hl': 2432,\n",
       " 'info': 2636,\n",
       " 'urgent': 5794,\n",
       " 'membership': 3311,\n",
       " 'jackpot': 2730,\n",
       " 'www': 6183,\n",
       " 'dbuk': 1283,\n",
       " 'net': 3593,\n",
       " 'lccltd': 2985,\n",
       " 'pobox': 4081,\n",
       " 'ldnw': 2989,\n",
       " 'rw': 4588,\n",
       " 'search': 4689,\n",
       " 'right': 4518,\n",
       " 'thank': 5434,\n",
       " 'breather': 681,\n",
       " 'promis': 4245,\n",
       " 'wont': 6120,\n",
       " 'take': 5334,\n",
       " 'help': 2397,\n",
       " 'grant': 2234,\n",
       " 'fulfil': 2055,\n",
       " 'wonder': 6119,\n",
       " 'bless': 592,\n",
       " 'time': 5520,\n",
       " 'date': 1274,\n",
       " 'sunday': 5247,\n",
       " 'xxxmobilemovieclub': 6203,\n",
       " 'use': 5808,\n",
       " 'credit': 1177,\n",
       " 'click': 989,\n",
       " 'wap': 5946,\n",
       " 'link': 3055,\n",
       " 'next': 3614,\n",
       " 'messag': 3325,\n",
       " 'http': 2510,\n",
       " 'com': 1042,\n",
       " 'qjkgighjjgcbl': 4310,\n",
       " 'oh': 3755,\n",
       " 'watch': 5958,\n",
       " 'eh': 1611,\n",
       " 'rememb': 4453,\n",
       " 'spell': 5047,\n",
       " 'name': 3538,\n",
       " 'ye': 6227,\n",
       " 'naughti': 3557,\n",
       " 'make': 3214,\n",
       " 'wet': 6022,\n",
       " 'fine': 1895,\n",
       " 'way': 5971,\n",
       " 'feel': 1852,\n",
       " 'gota': 2209,\n",
       " 'england': 1658,\n",
       " 'macedonia': 3183,\n",
       " 'dont': 1479,\n",
       " 'miss': 3373,\n",
       " 'goal': 2172,\n",
       " 'team': 5375,\n",
       " 'news': 3610,\n",
       " 'ur': 5790,\n",
       " 'nation': 3552,\n",
       " 'eg': 1607,\n",
       " 'tri': 5644,\n",
       " 'wale': 5930,\n",
       " 'scotland': 4672,\n",
       " 'poboxox': 4082,\n",
       " 'wq': 6152,\n",
       " 'serious': 4738,\n",
       " 'ha': 2297,\n",
       " 'pay': 3947,\n",
       " 'first': 1907,\n",
       " 'da': 1245,\n",
       " 'stock': 5155,\n",
       " 'comin': 1049,\n",
       " 'aft': 98,\n",
       " 'finish': 1898,\n",
       " 'lunch': 3162,\n",
       " 'str': 5174,\n",
       " 'lor': 3113,\n",
       " 'ard': 283,\n",
       " 'smth': 4948,\n",
       " 'ffffffffff': 1868,\n",
       " 'alright': 164,\n",
       " 'meet': 3298,\n",
       " 'sooner': 5003,\n",
       " 'forc': 1969,\n",
       " 'eat': 1580,\n",
       " 'slice': 4911,\n",
       " 'realli': 4390,\n",
       " 'hungri': 2526,\n",
       " 'tho': 5482,\n",
       " 'suck': 5224,\n",
       " 'mark': 3246,\n",
       " 'get': 2129,\n",
       " 'worri': 6137,\n",
       " 'know': 2910,\n",
       " 'sick': 4846,\n",
       " 'turn': 5681,\n",
       " 'pizza': 4047,\n",
       " 'lol': 3094,\n",
       " 'alway': 173,\n",
       " 'convinc': 1118,\n",
       " 'catch': 844,\n",
       " 'bu': 728,\n",
       " 'fri': 2023,\n",
       " 'egg': 1609,\n",
       " 'tea': 5372,\n",
       " 'mom': 3424,\n",
       " 'left': 3002,\n",
       " 'dinner': 1406,\n",
       " 'love': 3132,\n",
       " 'amp': 192,\n",
       " 'pack': 3880,\n",
       " 'car': 818,\n",
       " 'let': 3020,\n",
       " 'room': 4549,\n",
       " 'ahhh': 114,\n",
       " 'work': 6130,\n",
       " 'vagu': 5829,\n",
       " 'wait': 5927,\n",
       " 'clear': 985,\n",
       " 'sure': 5270,\n",
       " 'sarcast': 4633,\n",
       " 'us': 5804,\n",
       " 'yeah': 6228,\n",
       " 'apologet': 251,\n",
       " 'fallen': 1813,\n",
       " 'actin': 53,\n",
       " 'spoilt': 5071,\n",
       " 'child': 929,\n",
       " 'caught': 846,\n",
       " 'till': 5518,\n",
       " 'badli': 419,\n",
       " 'cheer': 907,\n",
       " 'tell': 5389,\n",
       " 'anyth': 236,\n",
       " 'fear': 1843,\n",
       " 'faint': 1805,\n",
       " 'housework': 2496,\n",
       " 'quick': 4320,\n",
       " 'cuppa': 1222,\n",
       " 'subscript': 5218,\n",
       " 'rington': 4524,\n",
       " 'uk': 5719,\n",
       " 'charg': 886,\n",
       " 'pleas': 4063,\n",
       " 'confirm': 1091,\n",
       " 'yup': 6279,\n",
       " 'look': 3105,\n",
       " 'msg': 3474,\n",
       " 'xuhui': 6198,\n",
       " 'learn': 2997,\n",
       " 'nd': 3563,\n",
       " 'lesson': 3019,\n",
       " 'oop': 3798,\n",
       " 'roommat': 4551,\n",
       " 'done': 1477,\n",
       " 'see': 4701,\n",
       " 'letter': 3021,\n",
       " 'decid': 1298,\n",
       " 'hello': 2394,\n",
       " 'saturday': 4645,\n",
       " 'tomo': 5572,\n",
       " 'invit': 2684,\n",
       " 'pl': 4048,\n",
       " 'ahead': 113,\n",
       " 'watt': 5967,\n",
       " 'weekend': 5994,\n",
       " 'abiola': 13,\n",
       " 'forget': 1975,\n",
       " 'need': 3577,\n",
       " 'crave': 1168,\n",
       " 'sweet': 5297,\n",
       " 'arabian': 280,\n",
       " 'steed': 5137,\n",
       " 'mmmmmm': 3397,\n",
       " 'yummi': 6273,\n",
       " 'rodger': 4540,\n",
       " 'burn': 752,\n",
       " 'sm': 4926,\n",
       " 'nokia': 3656,\n",
       " 'camcord': 795,\n",
       " 'deliveri': 1327,\n",
       " 'tomorrow': 5574,\n",
       " 'hope': 2474,\n",
       " 'man': 3222,\n",
       " 'well': 6005,\n",
       " 'endow': 1651,\n",
       " 'lt': 3149,\n",
       " 'gt': 2269,\n",
       " 'inch': 2610,\n",
       " 'hep': 2403,\n",
       " 'immunis': 2596,\n",
       " 'nigeria': 3625,\n",
       " 'fair': 1806,\n",
       " 'tyler': 5704,\n",
       " 'could': 1142,\n",
       " 'mayb': 3277,\n",
       " 'ask': 324,\n",
       " 'bit': 576,\n",
       " 'stubborn': 5197,\n",
       " 'hospit': 2483,\n",
       " 'kept': 2870,\n",
       " 'weak': 5975,\n",
       " 'sucker': 5225,\n",
       " 'saw': 4650,\n",
       " 'class': 979,\n",
       " 'gram': 2228,\n",
       " 'usual': 5815,\n",
       " 'run': 4582,\n",
       " 'half': 2311,\n",
       " 'eighth': 1613,\n",
       " 'smarter': 4932,\n",
       " 'almost': 159,\n",
       " 'whole': 6046,\n",
       " 'second': 4693,\n",
       " 'fyi': 2073,\n",
       " 'ride': 4517,\n",
       " 'morn': 3443,\n",
       " 'crash': 1167,\n",
       " 'place': 4049,\n",
       " 'wow': 6150,\n",
       " 'never': 3602,\n",
       " 'realiz': 4389,\n",
       " 'embarass': 1635,\n",
       " 'accomod': 38,\n",
       " 'thought': 5486,\n",
       " 'sinc': 4866,\n",
       " 'best': 536,\n",
       " 'seem': 4705,\n",
       " 'happi': 2333,\n",
       " 'cave': 848,\n",
       " 'sorri': 5011,\n",
       " 'give': 2154,\n",
       " 'offer': 3745,\n",
       " 'ac': 27,\n",
       " 'sptv': 5090,\n",
       " 'new': 3605,\n",
       " 'jersey': 2771,\n",
       " 'devil': 1366,\n",
       " 'detroit': 1362,\n",
       " 'red': 4417,\n",
       " 'wing': 6074,\n",
       " 'play': 4058,\n",
       " 'ice': 2555,\n",
       " 'hockey': 2444,\n",
       " 'correct': 1131,\n",
       " 'incorrect': 2618,\n",
       " 'end': 1648,\n",
       " 'mallika': 3221,\n",
       " 'sherawat': 4785,\n",
       " 'yesterday': 6240,\n",
       " 'find': 1894,\n",
       " 'url': 5800,\n",
       " 'congrat': 1095,\n",
       " 'year': 6229,\n",
       " 'special': 5039,\n",
       " 'cinema': 965,\n",
       " 'pass': 3929,\n",
       " 'suprman': 5268,\n",
       " 'matrix': 3269,\n",
       " 'starwar': 5122,\n",
       " 'etc': 1710,\n",
       " 'bx': 770,\n",
       " 'ip': 2689,\n",
       " 'pm': 4077,\n",
       " 'later': 2971,\n",
       " 'reach': 4379,\n",
       " 'gauti': 2098,\n",
       " 'sehwag': 4709,\n",
       " 'odi': 3739,\n",
       " 'seri': 4736,\n",
       " 'pick': 4025,\n",
       " 'burger': 749,\n",
       " 'move': 3461,\n",
       " 'pain': 3886,\n",
       " 'kill': 2889,\n",
       " 'good': 2191,\n",
       " 'girl': 2149,\n",
       " 'situat': 4883,\n",
       " 'seeker': 4704,\n",
       " 'part': 3920,\n",
       " 'check': 901,\n",
       " 'iq': 2694,\n",
       " 'took': 5584,\n",
       " 'forev': 1972,\n",
       " 'come': 1045,\n",
       " 'doubl': 1493,\n",
       " 'hair': 2306,\n",
       " 'dresser': 1516,\n",
       " 'said': 4604,\n",
       " 'wun': 6181,\n",
       " 'cut': 1234,\n",
       " 'short': 4816,\n",
       " 'nice': 3619,\n",
       " 'advis': 83,\n",
       " 'follow': 1956,\n",
       " 'recent': 4404,\n",
       " 'review': 4505,\n",
       " 'mob': 3404,\n",
       " 'award': 393,\n",
       " 'bonu': 627,\n",
       " 'song': 4998,\n",
       " 'dedic': 1304,\n",
       " 'valuabl': 5834,\n",
       " 'frnd': 2032,\n",
       " 'rpli': 4562,\n",
       " 'complimentari': 1072,\n",
       " 'trip': 5646,\n",
       " 'eurodisinc': 1715,\n",
       " 'trav': 5633,\n",
       " 'aco': 50,\n",
       " 'di': 1375,\n",
       " 'morefrmmob': 3442,\n",
       " 'shracomorsglsuplt': 4831,\n",
       " 'ls': 3147,\n",
       " 'aj': 129,\n",
       " 'hear': 2376,\n",
       " 'divorc': 1440,\n",
       " 'barbi': 447,\n",
       " 'ken': 2868,\n",
       " 'plane': 4053,\n",
       " 'wah': 5920,\n",
       " 'lucki': 3156,\n",
       " 'save': 4649,\n",
       " 'money': 3429,\n",
       " 'hee': 2386,\n",
       " 'hi': 2412,\n",
       " 'babe': 408,\n",
       " 'im': 2587,\n",
       " 'wanna': 5943,\n",
       " 'someth': 4986,\n",
       " 'xx': 6199,\n",
       " 'perform': 3977,\n",
       " 'machan': 3185,\n",
       " 'that': 5440,\n",
       " 'cool': 1121,\n",
       " 'gentleman': 2120,\n",
       " 'digniti': 1398,\n",
       " 'respect': 4486,\n",
       " 'peopl': 3971,\n",
       " 'much': 3487,\n",
       " 'shi': 4789,\n",
       " 'pa': 3878,\n",
       " 'oper': 3801,\n",
       " 'job': 2787,\n",
       " 'ta': 5321,\n",
       " 'earn': 1571,\n",
       " 'ah': 111,\n",
       " 'stop': 5163,\n",
       " 'urgnt': 5796,\n",
       " 'real': 4385,\n",
       " 'yo': 6251,\n",
       " 'ticket': 5508,\n",
       " 'one': 3784,\n",
       " 'jacket': 2729,\n",
       " 'multi': 3494,\n",
       " 'start': 5120,\n",
       " 'came': 796,\n",
       " 'bed': 498,\n",
       " 'coin': 1029,\n",
       " 'factori': 1798,\n",
       " 'gotta': 2215,\n",
       " 'nitro': 3641,\n",
       " 'ela': 1618,\n",
       " 'kano': 2850,\n",
       " 'il': 2582,\n",
       " 'download': 1500,\n",
       " 'wen': 6008,\n",
       " 'stand': 5113,\n",
       " 'close': 994,\n",
       " 'anoth': 221,\n",
       " 'night': 3627,\n",
       " 'spent': 5049,\n",
       " 'late': 2969,\n",
       " 'afternoon': 100,\n",
       " 'casualti': 842,\n",
       " 'mean': 3285,\n",
       " 'moro': 3445,\n",
       " 'includ': 2613,\n",
       " 'sheet': 4780,\n",
       " 'smile': 4938,\n",
       " 'pleasur': 4066,\n",
       " 'troubl': 5652,\n",
       " 'pour': 4138,\n",
       " 'rain': 4340,\n",
       " 'sum': 5240,\n",
       " 'hurt': 2532,\n",
       " 'becoz': 496,\n",
       " 'someon': 4981,\n",
       " 'servic': 4741,\n",
       " 'repres': 4471,\n",
       " 'guarante': 2273,\n",
       " 'havent': 2358,\n",
       " 'plan': 4052,\n",
       " 'buy': 763,\n",
       " 'lido': 3030,\n",
       " 'show': 4827,\n",
       " 'collect': 1038,\n",
       " 'simpli': 4863,\n",
       " 'password': 3933,\n",
       " 'mix': 3388,\n",
       " 'verifi': 5856,\n",
       " 'usher': 5812,\n",
       " 'britney': 701,\n",
       " 'fml': 1950,\n",
       " 'po': 4080,\n",
       " 'box': 654,\n",
       " 'mk': 3391,\n",
       " 'ppw': 4152,\n",
       " 'telugu': 5393,\n",
       " 'movi': 3462,\n",
       " 'abt': 23,\n",
       " 'load': 3080,\n",
       " 'loan': 3081,\n",
       " 'wk': 6097,\n",
       " 'hol': 2448,\n",
       " 'forgot': 1978,\n",
       " 'hairdress': 2308,\n",
       " 'appoint': 264,\n",
       " 'four': 1990,\n",
       " 'shower': 4828,\n",
       " 'beforehand': 509,\n",
       " 'caus': 847,\n",
       " 'prob': 4223,\n",
       " 'coffe': 1026,\n",
       " 'anim': 209,\n",
       " 'noth': 3679,\n",
       " 'els': 1630,\n",
       " 'okay': 3761,\n",
       " 'price': 4204,\n",
       " 'long': 3101,\n",
       " 'legal': 3005,\n",
       " 'ave': 384,\n",
       " 'am': 175,\n",
       " 'gone': 2187,\n",
       " 'drive': 1521,\n",
       " 'test': 5416,\n",
       " 'yet': 6241,\n",
       " 'guess': 2279,\n",
       " 'gave': 2099,\n",
       " 'boston': 644,\n",
       " 'men': 3314,\n",
       " 'chang': 880,\n",
       " 'locat': 3084,\n",
       " 'nyc': 3718,\n",
       " 'cuz': 1240,\n",
       " 'signin': 4853,\n",
       " 'page': 3883,\n",
       " 'umma': 5724,\n",
       " 'life': 3032,\n",
       " 'vava': 5844,\n",
       " 'lot': 3119,\n",
       " 'dear': 1289,\n",
       " 'wish': 6083,\n",
       " 'birthday': 574,\n",
       " 'truli': 5659,\n",
       " 'memor': 3312,\n",
       " 'aight': 120,\n",
       " 'hit': 2426,\n",
       " 'would': 6147,\n",
       " 'address': 64,\n",
       " 'consid': 1101,\n",
       " 'comput': 1076,\n",
       " 'minecraft': 3355,\n",
       " 'server': 4740,\n",
       " 'grumpi': 2266,\n",
       " 'old': 3772,\n",
       " 'better': 541,\n",
       " 'lie': 3031,\n",
       " 'busi': 757,\n",
       " 'plural': 4074,\n",
       " 'noun': 3687,\n",
       " 'research': 4475,\n",
       " 'thing': 5467,\n",
       " 'scare': 4659,\n",
       " 'mah': 3204,\n",
       " 'loud': 3127,\n",
       " 'gent': 2118,\n",
       " 'contact': 1106,\n",
       " 'last': 2967,\n",
       " 'draw': 1511,\n",
       " 'hr': 2506,\n",
       " 'ppm': 4146,\n",
       " 'wa': 5916,\n",
       " 'openin': 3800,\n",
       " 'sentenc': 4729,\n",
       " 'formal': 1982,\n",
       " 'anyway': 241,\n",
       " 'juz': 2833,\n",
       " 'tt': 5668,\n",
       " 'eatin': 1582,\n",
       " 'puttin': 4299,\n",
       " 'weight': 5997,\n",
       " 'haha': 2302,\n",
       " 'anythin': 238,\n",
       " 'happen': 2330,\n",
       " 'enter': 1667,\n",
       " 'cabin': 774,\n",
       " 'boss': 643,\n",
       " 'felt': 1859,\n",
       " 'askd': 325,\n",
       " 'apart': 244,\n",
       " 'went': 6011,\n",
       " 'holiday': 2454,\n",
       " 'flight': 1931,\n",
       " 'inc': 2609,\n",
       " 'min': 3349,\n",
       " 'goodo': 2200,\n",
       " 'must': 3510,\n",
       " 'friday': 2024,\n",
       " 'potato': 4133,\n",
       " 'ratio': 4366,\n",
       " 'tortilla': 5599,\n",
       " 'hmm': 2437,\n",
       " 'uncl': 5732,\n",
       " 'inform': 2637,\n",
       " 'school': 4665,\n",
       " 'directli': 1412,\n",
       " 'food': 1962,\n",
       " 'privat': 4216,\n",
       " 'account': 41,\n",
       " 'statement': 5125,\n",
       " 'unredeem': 5770,\n",
       " 'identifi': 2566,\n",
       " 'expir': 1774,\n",
       " 'landlin': 2949,\n",
       " 'wr': 6153,\n",
       " 'appl': 259,\n",
       " 'pair': 3888,\n",
       " 'malarki': 3218,\n",
       " 'voda': 5899,\n",
       " 'number': 3705,\n",
       " 'match': 3262,\n",
       " 'quot': 4328,\n",
       " 'standard': 5114,\n",
       " 'app': 253,\n",
       " 'sao': 4627,\n",
       " 'mu': 3485,\n",
       " 'predict': 4172,\n",
       " 'yetund': 6243,\n",
       " 'sent': 4728,\n",
       " 'bother': 646,\n",
       " 'involv': 2687,\n",
       " 'impos': 2603,\n",
       " 'apologis': 252,\n",
       " 'del': 1320,\n",
       " 'bak': 426,\n",
       " 'lucyxx': 3159,\n",
       " 'tmorrow': 5542,\n",
       " 'answer': 223,\n",
       " 'sunshin': 5254,\n",
       " 'quiz': 4325,\n",
       " 'top': 5592,\n",
       " 'soni': 4999,\n",
       " 'dvd': 1560,\n",
       " 'player': 4059,\n",
       " 'countri': 1147,\n",
       " 'algarv': 146,\n",
       " 'ansr': 222,\n",
       " 'sp': 5026,\n",
       " 'tyron': 5707,\n",
       " 'laid': 2942,\n",
       " 'dog': 1461,\n",
       " 'direct': 1411,\n",
       " 'join': 2793,\n",
       " 'largest': 2964,\n",
       " 'bt': 724,\n",
       " 'txting': 5698,\n",
       " 'gravel': 2239,\n",
       " 'nt': 3695,\n",
       " 'ec': 1584,\n",
       " 'haf': 2301,\n",
       " 'msn': 3478,\n",
       " 'yiju': 6248,\n",
       " 'hotmail': 2489,\n",
       " 'befor': 508,\n",
       " 'activ': 55,\n",
       " 'chat': 894,\n",
       " 'svc': 5283,\n",
       " 'hardcor': 2338,\n",
       " 'age': 105,\n",
       " 'yr': 6269,\n",
       " 'lazi': 2983,\n",
       " 'type': 5705,\n",
       " 'lect': 3000,\n",
       " 'pouch': 4136,\n",
       " 'sir': 4875,\n",
       " 'mail': 3209,\n",
       " 'swt': 5310,\n",
       " 'nver': 3712,\n",
       " 'tire': 5525,\n",
       " 'littl': 3069,\n",
       " 'lovabl': 3131,\n",
       " 'person': 3989,\n",
       " 'coz': 1157,\n",
       " 'somtim': 4995,\n",
       " 'occupi': 3733,\n",
       " 'biggest': 560,\n",
       " 'heart': 2379,\n",
       " 'gud': 2275,\n",
       " 'ni': 3617,\n",
       " 'open': 3799,\n",
       " 'ya': 6212,\n",
       " 'dot': 1492,\n",
       " 'what': 6026,\n",
       " 'staff': 5107,\n",
       " 'randi': 4355,\n",
       " 'sexi': 4748,\n",
       " 'femal': 1860,\n",
       " 'local': 3083,\n",
       " 'luv': 3167,\n",
       " 'netcollex': 3594,\n",
       " 'ltd': 3150,\n",
       " 'ummma': 5726,\n",
       " 'begin': 512,\n",
       " 'qatar': 4304,\n",
       " 'pray': 4168,\n",
       " 'hard': 2337,\n",
       " 'delet': 1322,\n",
       " 'sindu': 4868,\n",
       " 'birla': 570,\n",
       " 'soft': 4970,\n",
       " 'wine': 6073,\n",
       " 'flow': 1942,\n",
       " 'thk': 5474,\n",
       " 'plaza': 4062,\n",
       " 'typic': 5706,\n",
       " 'everywher': 1735,\n",
       " 'dirt': 1414,\n",
       " 'floor': 1939,\n",
       " 'window': 6072,\n",
       " 'shirt': 4798,\n",
       " 'sometim': 4988,\n",
       " 'mouth': 3460,\n",
       " 'dream': 1513,\n",
       " 'without': 6091,\n",
       " 'chore': 953,\n",
       " 'joy': 2806,\n",
       " 'tv': 5683,\n",
       " 'exist': 1763,\n",
       " 'hail': 2305,\n",
       " 'mist': 3381,\n",
       " 'becom': 495,\n",
       " 'aaooooright': 3,\n",
       " 'leav': 2999,\n",
       " 'hous': 2494,\n",
       " 'interview': 2674,\n",
       " 'boy': 655,\n",
       " 'annonc': 215,\n",
       " 'arrang': 305,\n",
       " 'keep': 2865,\n",
       " 'safe': 4600,\n",
       " 'envi': 1678,\n",
       " 'everyon': 1730,\n",
       " 'parent': 3915,\n",
       " 'hand': 2319,\n",
       " 'excit': 1755,\n",
       " 'spend': 5048,\n",
       " 'bootydeli': 637,\n",
       " 'bangbab': 440,\n",
       " 'order': 3819,\n",
       " 'content': 1108,\n",
       " 'goto': 2214,\n",
       " 'bangb': 439,\n",
       " 'internet': 2673,\n",
       " 'menu': 3318,\n",
       " 'cultur': 1217,\n",
       " 'modul': 3418,\n",
       " 'avoid': 390,\n",
       " 'missunderstd': 3380,\n",
       " 'wit': 6087,\n",
       " 'belov': 525,\n",
       " 'escap': 1699,\n",
       " 'fanci': 1819,\n",
       " 'bridg': 688,\n",
       " 'lager': 2941,\n",
       " 'complet': 1069,\n",
       " 'form': 1981,\n",
       " 'clark': 977,\n",
       " 'also': 166,\n",
       " 'utter': 5818,\n",
       " 'wast': 5956,\n",
       " 'axi': 401,\n",
       " 'bank': 442,\n",
       " 'hmmm': 2438,\n",
       " 'hop': 2473,\n",
       " 'muz': 3516,\n",
       " 'discuss': 1427,\n",
       " 'liao': 3025,\n",
       " 'bloodi': 602,\n",
       " 'hell': 2392,\n",
       " 'cant': 810,\n",
       " 'believ': 518,\n",
       " 'surnam': 5274,\n",
       " 'mr': 3467,\n",
       " 'ill': 2584,\n",
       " 'clue': 1005,\n",
       " 'spanish': 5032,\n",
       " 'bath': 465,\n",
       " 'carlo': 828,\n",
       " 'mall': 3220,\n",
       " 'stay': 5128,\n",
       " 'til': 5517,\n",
       " 'smoke': 4941,\n",
       " 'worth': 6140,\n",
       " 'doesnt': 1460,\n",
       " 'log': 3088,\n",
       " 'spoke': 5072,\n",
       " 'maneesha': 3229,\n",
       " 'satisfi': 4642,\n",
       " 'experi': 1771,\n",
       " 'toll': 5567,\n",
       " 'lift': 3037,\n",
       " 'especi': 1703,\n",
       " 'approach': 266,\n",
       " 'studi': 5202,\n",
       " 'gr': 2223,\n",
       " 'trust': 5661,\n",
       " 'guy': 2290,\n",
       " 'bye': 772,\n",
       " 'handsom': 2322,\n",
       " 'toward': 5611,\n",
       " 'mummi': 3500,\n",
       " 'boytoy': 658,\n",
       " 'awesom': 395,\n",
       " 'minut': 3365,\n",
       " 'freephon': 2014,\n",
       " 'xma': 6194,\n",
       " 'radio': 4334,\n",
       " 'ju': 2813,\n",
       " 'si': 4842,\n",
       " 'uniqu': 5756,\n",
       " 'th': 5431,\n",
       " 'august': 369,\n",
       " 'areyouuniqu': 288,\n",
       " 'leagu': 2995,\n",
       " 'touch': 5607,\n",
       " 'deal': 1287,\n",
       " 'cours': 1151,\n",
       " 'howev': 2501,\n",
       " 'suggest': 5236,\n",
       " 'abl': 15,\n",
       " 'or': 3814,\n",
       " 'everi': 1726,\n",
       " 'stool': 5162,\n",
       " 'settl': 4743,\n",
       " 'wishin': 6084,\n",
       " 'mrng': 3469,\n",
       " 'hav': 2354,\n",
       " 'stori': 5172,\n",
       " 'hamster': 2318,\n",
       " 'dead': 1286,\n",
       " 'tmr': 5543,\n",
       " 'orchard': 3818,\n",
       " 'mrt': 3471,\n",
       " 'kate': 2855,\n",
       " 'babyjontet': 411,\n",
       " 'found': 1988,\n",
       " 'enc': 1647,\n",
       " 'buck': 730,\n",
       " 'darlin': 1268,\n",
       " 'ive': 2720,\n",
       " 'colleg': 1039,\n",
       " 'refil': 4425,\n",
       " 'success': 5223,\n",
       " 'inr': 2652,\n",
       " 'decim': 1299,\n",
       " 'keralacircl': 2872,\n",
       " 'prepaid': 4178,\n",
       " 'balanc': 429,\n",
       " 'rs': 4564,\n",
       " 'transact': 5626,\n",
       " 'id': 2561,\n",
       " 'kr': 2925,\n",
       " 'goodmorn': 2196,\n",
       " 'sleep': 4905,\n",
       " 'ga': 2074,\n",
       " 'alter': 167,\n",
       " 'dat': 1272,\n",
       " 'ericsson': 1687,\n",
       " 'oso': 3835,\n",
       " 'cannot': 809,\n",
       " 'oredi': 3822,\n",
       " 'straight': 5175,\n",
       " 'dogg': 1463,\n",
       " 'connect': 1097,\n",
       " 'refund': 4430,\n",
       " 'bill': 562,\n",
       " 'shoot': 4811,\n",
       " 'big': 558,\n",
       " 'readi': 4384,\n",
       " 'bruv': 719,\n",
       " 'break': 676,\n",
       " 'semest': 4717,\n",
       " 'noe': 3650,\n",
       " 'leh': 3007,\n",
       " 'sound': 5017,\n",
       " 'head': 2367,\n",
       " 'slept': 4910,\n",
       " 'past': 3934,\n",
       " 'easi': 1573,\n",
       " 'sen': 4720,\n",
       " 'exam': 1751,\n",
       " 'march': 3240,\n",
       " 'atm': 352,\n",
       " 'regist': 4435,\n",
       " 'os': 3833,\n",
       " 'ubandu': 5709,\n",
       " 'instal': 2659,\n",
       " 'disk': 1429,\n",
       " 'import': 2601,\n",
       " 'file': 1884,\n",
       " 'system': 5320,\n",
       " 'repair': 4464,\n",
       " 'shop': 4812,\n",
       " 'romant': 4546,\n",
       " 'nite': 3640,\n",
       " 'sceneri': 4662,\n",
       " 'tc': 5368,\n",
       " 'biz': 579,\n",
       " 'optout': 3813,\n",
       " 'gbp': 2105,\n",
       " 'mtmsg': 3482,\n",
       " 'appreci': 265,\n",
       " 'partner': 3925,\n",
       " 'career': 824,\n",
       " 'flyng': 1948,\n",
       " 'horo': 2480,\n",
       " 'star': 5116,\n",
       " 'sign': 4850,\n",
       " 'ari': 293,\n",
       " 'compani': 1059,\n",
       " 'elama': 1621,\n",
       " 'mudyadhu': 3490,\n",
       " 'strict': 5185,\n",
       " 'teacher': 5374,\n",
       " 'bcoz': 483,\n",
       " 'teach': 5373,\n",
       " 'conduct': 1086,\n",
       " 'gandhipuram': 2085,\n",
       " 'walk': 5932,\n",
       " 'cross': 1187,\n",
       " 'road': 4534,\n",
       " 'side': 4847,\n",
       " 'street': 5180,\n",
       " 'rubber': 4572,\n",
       " 'batteri': 469,\n",
       " 'die': 1388,\n",
       " 'flirt': 1935,\n",
       " 'sam': 4615,\n",
       " 'recd': 4400,\n",
       " 'thirtyeight': 5472,\n",
       " 'penc': 3966,\n",
       " 'print': 4210,\n",
       " 'upstair': 5787,\n",
       " 'closer': 996,\n",
       " 'wil': 6061,\n",
       " 'theori': 5452,\n",
       " 'argument': 292,\n",
       " 'lose': 3115,\n",
       " 'argu': 291,\n",
       " 'kick': 2883,\n",
       " 'secret': 4695,\n",
       " 'admir': 70,\n",
       " 'reveal': 4503,\n",
       " 'tomarrow': 5569,\n",
       " 'laptop': 2959,\n",
       " 'case': 836,\n",
       " 'pleassssssseeeee': 4065,\n",
       " 'tel': 5385,\n",
       " 'avent': 386,\n",
       " 'sportsx': 5080,\n",
       " 'shine': 4795,\n",
       " 'meant': 3288,\n",
       " 'although': 169,\n",
       " ...}"
      ]
     },
     "execution_count": 35,
     "metadata": {},
     "output_type": "execute_result"
    }
   ],
   "source": [
    "tf.vocabulary_"
   ]
  },
  {
   "cell_type": "code",
   "execution_count": 36,
   "metadata": {},
   "outputs": [],
   "source": [
    "x_train, x_test, y_train, y_test = train_test_split(x, y, test_size=0.2, random_state=0)"
   ]
  },
  {
   "cell_type": "code",
   "execution_count": 47,
   "metadata": {},
   "outputs": [],
   "source": [
    "def metrics_calculator(y_test, y_pred):\n",
    "    print ('accuracy:', accuracy_score(y_test, y_pred))\n",
    "    print ('precision:', precision_score(y_test, y_pred))\n",
    "    print ('recall:', recall_score(y_test, y_pred))\n",
    "    print ('confusion matrix:'+'\\n', confusion_matrix(y_test, y_pred))\n",
    "    \n"
   ]
  },
  {
   "cell_type": "code",
   "execution_count": 48,
   "metadata": {},
   "outputs": [
    {
     "data": {
      "text/plain": [
       "((4457, 6296), (4457,))"
      ]
     },
     "execution_count": 48,
     "metadata": {},
     "output_type": "execute_result"
    }
   ],
   "source": [
    "x_train.shape, y_train.shape"
   ]
  },
  {
   "cell_type": "code",
   "execution_count": 49,
   "metadata": {},
   "outputs": [
    {
     "data": {
      "text/plain": [
       "((1115, 6296), (1115,))"
      ]
     },
     "execution_count": 49,
     "metadata": {},
     "output_type": "execute_result"
    }
   ],
   "source": [
    "x_test.shape, y_test.shape"
   ]
  },
  {
   "cell_type": "code",
   "execution_count": 50,
   "metadata": {},
   "outputs": [],
   "source": [
    "multiNB = MultinomialNB()"
   ]
  },
  {
   "cell_type": "code",
   "execution_count": 51,
   "metadata": {},
   "outputs": [
    {
     "data": {
      "text/html": [
       "<style>#sk-container-id-2 {color: black;}#sk-container-id-2 pre{padding: 0;}#sk-container-id-2 div.sk-toggleable {background-color: white;}#sk-container-id-2 label.sk-toggleable__label {cursor: pointer;display: block;width: 100%;margin-bottom: 0;padding: 0.3em;box-sizing: border-box;text-align: center;}#sk-container-id-2 label.sk-toggleable__label-arrow:before {content: \"▸\";float: left;margin-right: 0.25em;color: #696969;}#sk-container-id-2 label.sk-toggleable__label-arrow:hover:before {color: black;}#sk-container-id-2 div.sk-estimator:hover label.sk-toggleable__label-arrow:before {color: black;}#sk-container-id-2 div.sk-toggleable__content {max-height: 0;max-width: 0;overflow: hidden;text-align: left;background-color: #f0f8ff;}#sk-container-id-2 div.sk-toggleable__content pre {margin: 0.2em;color: black;border-radius: 0.25em;background-color: #f0f8ff;}#sk-container-id-2 input.sk-toggleable__control:checked~div.sk-toggleable__content {max-height: 200px;max-width: 100%;overflow: auto;}#sk-container-id-2 input.sk-toggleable__control:checked~label.sk-toggleable__label-arrow:before {content: \"▾\";}#sk-container-id-2 div.sk-estimator input.sk-toggleable__control:checked~label.sk-toggleable__label {background-color: #d4ebff;}#sk-container-id-2 div.sk-label input.sk-toggleable__control:checked~label.sk-toggleable__label {background-color: #d4ebff;}#sk-container-id-2 input.sk-hidden--visually {border: 0;clip: rect(1px 1px 1px 1px);clip: rect(1px, 1px, 1px, 1px);height: 1px;margin: -1px;overflow: hidden;padding: 0;position: absolute;width: 1px;}#sk-container-id-2 div.sk-estimator {font-family: monospace;background-color: #f0f8ff;border: 1px dotted black;border-radius: 0.25em;box-sizing: border-box;margin-bottom: 0.5em;}#sk-container-id-2 div.sk-estimator:hover {background-color: #d4ebff;}#sk-container-id-2 div.sk-parallel-item::after {content: \"\";width: 100%;border-bottom: 1px solid gray;flex-grow: 1;}#sk-container-id-2 div.sk-label:hover label.sk-toggleable__label {background-color: #d4ebff;}#sk-container-id-2 div.sk-serial::before {content: \"\";position: absolute;border-left: 1px solid gray;box-sizing: border-box;top: 0;bottom: 0;left: 50%;z-index: 0;}#sk-container-id-2 div.sk-serial {display: flex;flex-direction: column;align-items: center;background-color: white;padding-right: 0.2em;padding-left: 0.2em;position: relative;}#sk-container-id-2 div.sk-item {position: relative;z-index: 1;}#sk-container-id-2 div.sk-parallel {display: flex;align-items: stretch;justify-content: center;background-color: white;position: relative;}#sk-container-id-2 div.sk-item::before, #sk-container-id-2 div.sk-parallel-item::before {content: \"\";position: absolute;border-left: 1px solid gray;box-sizing: border-box;top: 0;bottom: 0;left: 50%;z-index: -1;}#sk-container-id-2 div.sk-parallel-item {display: flex;flex-direction: column;z-index: 1;position: relative;background-color: white;}#sk-container-id-2 div.sk-parallel-item:first-child::after {align-self: flex-end;width: 50%;}#sk-container-id-2 div.sk-parallel-item:last-child::after {align-self: flex-start;width: 50%;}#sk-container-id-2 div.sk-parallel-item:only-child::after {width: 0;}#sk-container-id-2 div.sk-dashed-wrapped {border: 1px dashed gray;margin: 0 0.4em 0.5em 0.4em;box-sizing: border-box;padding-bottom: 0.4em;background-color: white;}#sk-container-id-2 div.sk-label label {font-family: monospace;font-weight: bold;display: inline-block;line-height: 1.2em;}#sk-container-id-2 div.sk-label-container {text-align: center;}#sk-container-id-2 div.sk-container {/* jupyter's `normalize.less` sets `[hidden] { display: none; }` but bootstrap.min.css set `[hidden] { display: none !important; }` so we also need the `!important` here to be able to override the default hidden behavior on the sphinx rendered scikit-learn.org. See: https://github.com/scikit-learn/scikit-learn/issues/21755 */display: inline-block !important;position: relative;}#sk-container-id-2 div.sk-text-repr-fallback {display: none;}</style><div id=\"sk-container-id-2\" class=\"sk-top-container\"><div class=\"sk-text-repr-fallback\"><pre>MultinomialNB()</pre><b>In a Jupyter environment, please rerun this cell to show the HTML representation or trust the notebook. <br />On GitHub, the HTML representation is unable to render, please try loading this page with nbviewer.org.</b></div><div class=\"sk-container\" hidden><div class=\"sk-item\"><div class=\"sk-estimator sk-toggleable\"><input class=\"sk-toggleable__control sk-hidden--visually\" id=\"sk-estimator-id-2\" type=\"checkbox\" checked><label for=\"sk-estimator-id-2\" class=\"sk-toggleable__label sk-toggleable__label-arrow\">MultinomialNB</label><div class=\"sk-toggleable__content\"><pre>MultinomialNB()</pre></div></div></div></div></div>"
      ],
      "text/plain": [
       "MultinomialNB()"
      ]
     },
     "execution_count": 51,
     "metadata": {},
     "output_type": "execute_result"
    }
   ],
   "source": [
    "multiNB.fit(x_train, y_train)"
   ]
  },
  {
   "cell_type": "code",
   "execution_count": 52,
   "metadata": {},
   "outputs": [],
   "source": [
    "y_pred_multiNB = multiNB.predict(x_test)"
   ]
  },
  {
   "cell_type": "code",
   "execution_count": 53,
   "metadata": {},
   "outputs": [
    {
     "name": "stdout",
     "output_type": "stream",
     "text": [
      "accuracy: 0.9695067264573991\n",
      "precision: 1.0\n",
      "recall: 0.7875\n",
      "confusion matrix:\n",
      " [[955   0]\n",
      " [ 34 126]]\n"
     ]
    }
   ],
   "source": [
    "metrics_calculator(y_test, y_pred_multiNB)"
   ]
  },
  {
   "cell_type": "code",
   "execution_count": 56,
   "metadata": {},
   "outputs": [],
   "source": [
    "logreg_model = LogisticRegression()"
   ]
  },
  {
   "cell_type": "code",
   "execution_count": 57,
   "metadata": {},
   "outputs": [
    {
     "data": {
      "text/html": [
       "<style>#sk-container-id-3 {color: black;}#sk-container-id-3 pre{padding: 0;}#sk-container-id-3 div.sk-toggleable {background-color: white;}#sk-container-id-3 label.sk-toggleable__label {cursor: pointer;display: block;width: 100%;margin-bottom: 0;padding: 0.3em;box-sizing: border-box;text-align: center;}#sk-container-id-3 label.sk-toggleable__label-arrow:before {content: \"▸\";float: left;margin-right: 0.25em;color: #696969;}#sk-container-id-3 label.sk-toggleable__label-arrow:hover:before {color: black;}#sk-container-id-3 div.sk-estimator:hover label.sk-toggleable__label-arrow:before {color: black;}#sk-container-id-3 div.sk-toggleable__content {max-height: 0;max-width: 0;overflow: hidden;text-align: left;background-color: #f0f8ff;}#sk-container-id-3 div.sk-toggleable__content pre {margin: 0.2em;color: black;border-radius: 0.25em;background-color: #f0f8ff;}#sk-container-id-3 input.sk-toggleable__control:checked~div.sk-toggleable__content {max-height: 200px;max-width: 100%;overflow: auto;}#sk-container-id-3 input.sk-toggleable__control:checked~label.sk-toggleable__label-arrow:before {content: \"▾\";}#sk-container-id-3 div.sk-estimator input.sk-toggleable__control:checked~label.sk-toggleable__label {background-color: #d4ebff;}#sk-container-id-3 div.sk-label input.sk-toggleable__control:checked~label.sk-toggleable__label {background-color: #d4ebff;}#sk-container-id-3 input.sk-hidden--visually {border: 0;clip: rect(1px 1px 1px 1px);clip: rect(1px, 1px, 1px, 1px);height: 1px;margin: -1px;overflow: hidden;padding: 0;position: absolute;width: 1px;}#sk-container-id-3 div.sk-estimator {font-family: monospace;background-color: #f0f8ff;border: 1px dotted black;border-radius: 0.25em;box-sizing: border-box;margin-bottom: 0.5em;}#sk-container-id-3 div.sk-estimator:hover {background-color: #d4ebff;}#sk-container-id-3 div.sk-parallel-item::after {content: \"\";width: 100%;border-bottom: 1px solid gray;flex-grow: 1;}#sk-container-id-3 div.sk-label:hover label.sk-toggleable__label {background-color: #d4ebff;}#sk-container-id-3 div.sk-serial::before {content: \"\";position: absolute;border-left: 1px solid gray;box-sizing: border-box;top: 0;bottom: 0;left: 50%;z-index: 0;}#sk-container-id-3 div.sk-serial {display: flex;flex-direction: column;align-items: center;background-color: white;padding-right: 0.2em;padding-left: 0.2em;position: relative;}#sk-container-id-3 div.sk-item {position: relative;z-index: 1;}#sk-container-id-3 div.sk-parallel {display: flex;align-items: stretch;justify-content: center;background-color: white;position: relative;}#sk-container-id-3 div.sk-item::before, #sk-container-id-3 div.sk-parallel-item::before {content: \"\";position: absolute;border-left: 1px solid gray;box-sizing: border-box;top: 0;bottom: 0;left: 50%;z-index: -1;}#sk-container-id-3 div.sk-parallel-item {display: flex;flex-direction: column;z-index: 1;position: relative;background-color: white;}#sk-container-id-3 div.sk-parallel-item:first-child::after {align-self: flex-end;width: 50%;}#sk-container-id-3 div.sk-parallel-item:last-child::after {align-self: flex-start;width: 50%;}#sk-container-id-3 div.sk-parallel-item:only-child::after {width: 0;}#sk-container-id-3 div.sk-dashed-wrapped {border: 1px dashed gray;margin: 0 0.4em 0.5em 0.4em;box-sizing: border-box;padding-bottom: 0.4em;background-color: white;}#sk-container-id-3 div.sk-label label {font-family: monospace;font-weight: bold;display: inline-block;line-height: 1.2em;}#sk-container-id-3 div.sk-label-container {text-align: center;}#sk-container-id-3 div.sk-container {/* jupyter's `normalize.less` sets `[hidden] { display: none; }` but bootstrap.min.css set `[hidden] { display: none !important; }` so we also need the `!important` here to be able to override the default hidden behavior on the sphinx rendered scikit-learn.org. See: https://github.com/scikit-learn/scikit-learn/issues/21755 */display: inline-block !important;position: relative;}#sk-container-id-3 div.sk-text-repr-fallback {display: none;}</style><div id=\"sk-container-id-3\" class=\"sk-top-container\"><div class=\"sk-text-repr-fallback\"><pre>LogisticRegression()</pre><b>In a Jupyter environment, please rerun this cell to show the HTML representation or trust the notebook. <br />On GitHub, the HTML representation is unable to render, please try loading this page with nbviewer.org.</b></div><div class=\"sk-container\" hidden><div class=\"sk-item\"><div class=\"sk-estimator sk-toggleable\"><input class=\"sk-toggleable__control sk-hidden--visually\" id=\"sk-estimator-id-3\" type=\"checkbox\" checked><label for=\"sk-estimator-id-3\" class=\"sk-toggleable__label sk-toggleable__label-arrow\">LogisticRegression</label><div class=\"sk-toggleable__content\"><pre>LogisticRegression()</pre></div></div></div></div></div>"
      ],
      "text/plain": [
       "LogisticRegression()"
      ]
     },
     "execution_count": 57,
     "metadata": {},
     "output_type": "execute_result"
    }
   ],
   "source": [
    "logreg_model.fit(x_train, y_train)"
   ]
  },
  {
   "cell_type": "code",
   "execution_count": 58,
   "metadata": {},
   "outputs": [],
   "source": [
    "y_pred_logreg= logreg_model.predict(x_test)"
   ]
  },
  {
   "cell_type": "code",
   "execution_count": 59,
   "metadata": {},
   "outputs": [
    {
     "name": "stdout",
     "output_type": "stream",
     "text": [
      "accuracy: 0.9623318385650225\n",
      "precision: 0.9836065573770492\n",
      "recall: 0.75\n",
      "confusion matrix:\n",
      " [[953   2]\n",
      " [ 40 120]]\n"
     ]
    }
   ],
   "source": [
    "metrics_calculator(y_test, y_pred_logreg)"
   ]
  },
  {
   "cell_type": "code",
   "execution_count": 60,
   "metadata": {},
   "outputs": [],
   "source": [
    "dt_model = RandomForestClassifier()"
   ]
  },
  {
   "cell_type": "code",
   "execution_count": 62,
   "metadata": {},
   "outputs": [
    {
     "data": {
      "text/html": [
       "<style>#sk-container-id-4 {color: black;}#sk-container-id-4 pre{padding: 0;}#sk-container-id-4 div.sk-toggleable {background-color: white;}#sk-container-id-4 label.sk-toggleable__label {cursor: pointer;display: block;width: 100%;margin-bottom: 0;padding: 0.3em;box-sizing: border-box;text-align: center;}#sk-container-id-4 label.sk-toggleable__label-arrow:before {content: \"▸\";float: left;margin-right: 0.25em;color: #696969;}#sk-container-id-4 label.sk-toggleable__label-arrow:hover:before {color: black;}#sk-container-id-4 div.sk-estimator:hover label.sk-toggleable__label-arrow:before {color: black;}#sk-container-id-4 div.sk-toggleable__content {max-height: 0;max-width: 0;overflow: hidden;text-align: left;background-color: #f0f8ff;}#sk-container-id-4 div.sk-toggleable__content pre {margin: 0.2em;color: black;border-radius: 0.25em;background-color: #f0f8ff;}#sk-container-id-4 input.sk-toggleable__control:checked~div.sk-toggleable__content {max-height: 200px;max-width: 100%;overflow: auto;}#sk-container-id-4 input.sk-toggleable__control:checked~label.sk-toggleable__label-arrow:before {content: \"▾\";}#sk-container-id-4 div.sk-estimator input.sk-toggleable__control:checked~label.sk-toggleable__label {background-color: #d4ebff;}#sk-container-id-4 div.sk-label input.sk-toggleable__control:checked~label.sk-toggleable__label {background-color: #d4ebff;}#sk-container-id-4 input.sk-hidden--visually {border: 0;clip: rect(1px 1px 1px 1px);clip: rect(1px, 1px, 1px, 1px);height: 1px;margin: -1px;overflow: hidden;padding: 0;position: absolute;width: 1px;}#sk-container-id-4 div.sk-estimator {font-family: monospace;background-color: #f0f8ff;border: 1px dotted black;border-radius: 0.25em;box-sizing: border-box;margin-bottom: 0.5em;}#sk-container-id-4 div.sk-estimator:hover {background-color: #d4ebff;}#sk-container-id-4 div.sk-parallel-item::after {content: \"\";width: 100%;border-bottom: 1px solid gray;flex-grow: 1;}#sk-container-id-4 div.sk-label:hover label.sk-toggleable__label {background-color: #d4ebff;}#sk-container-id-4 div.sk-serial::before {content: \"\";position: absolute;border-left: 1px solid gray;box-sizing: border-box;top: 0;bottom: 0;left: 50%;z-index: 0;}#sk-container-id-4 div.sk-serial {display: flex;flex-direction: column;align-items: center;background-color: white;padding-right: 0.2em;padding-left: 0.2em;position: relative;}#sk-container-id-4 div.sk-item {position: relative;z-index: 1;}#sk-container-id-4 div.sk-parallel {display: flex;align-items: stretch;justify-content: center;background-color: white;position: relative;}#sk-container-id-4 div.sk-item::before, #sk-container-id-4 div.sk-parallel-item::before {content: \"\";position: absolute;border-left: 1px solid gray;box-sizing: border-box;top: 0;bottom: 0;left: 50%;z-index: -1;}#sk-container-id-4 div.sk-parallel-item {display: flex;flex-direction: column;z-index: 1;position: relative;background-color: white;}#sk-container-id-4 div.sk-parallel-item:first-child::after {align-self: flex-end;width: 50%;}#sk-container-id-4 div.sk-parallel-item:last-child::after {align-self: flex-start;width: 50%;}#sk-container-id-4 div.sk-parallel-item:only-child::after {width: 0;}#sk-container-id-4 div.sk-dashed-wrapped {border: 1px dashed gray;margin: 0 0.4em 0.5em 0.4em;box-sizing: border-box;padding-bottom: 0.4em;background-color: white;}#sk-container-id-4 div.sk-label label {font-family: monospace;font-weight: bold;display: inline-block;line-height: 1.2em;}#sk-container-id-4 div.sk-label-container {text-align: center;}#sk-container-id-4 div.sk-container {/* jupyter's `normalize.less` sets `[hidden] { display: none; }` but bootstrap.min.css set `[hidden] { display: none !important; }` so we also need the `!important` here to be able to override the default hidden behavior on the sphinx rendered scikit-learn.org. See: https://github.com/scikit-learn/scikit-learn/issues/21755 */display: inline-block !important;position: relative;}#sk-container-id-4 div.sk-text-repr-fallback {display: none;}</style><div id=\"sk-container-id-4\" class=\"sk-top-container\"><div class=\"sk-text-repr-fallback\"><pre>RandomForestClassifier()</pre><b>In a Jupyter environment, please rerun this cell to show the HTML representation or trust the notebook. <br />On GitHub, the HTML representation is unable to render, please try loading this page with nbviewer.org.</b></div><div class=\"sk-container\" hidden><div class=\"sk-item\"><div class=\"sk-estimator sk-toggleable\"><input class=\"sk-toggleable__control sk-hidden--visually\" id=\"sk-estimator-id-4\" type=\"checkbox\" checked><label for=\"sk-estimator-id-4\" class=\"sk-toggleable__label sk-toggleable__label-arrow\">RandomForestClassifier</label><div class=\"sk-toggleable__content\"><pre>RandomForestClassifier()</pre></div></div></div></div></div>"
      ],
      "text/plain": [
       "RandomForestClassifier()"
      ]
     },
     "execution_count": 62,
     "metadata": {},
     "output_type": "execute_result"
    }
   ],
   "source": [
    "dt_model.fit(x_train, y_train)"
   ]
  },
  {
   "cell_type": "code",
   "execution_count": 63,
   "metadata": {},
   "outputs": [],
   "source": [
    "y_pred_dt =dt_model.predict(x_test)"
   ]
  },
  {
   "cell_type": "code",
   "execution_count": 64,
   "metadata": {},
   "outputs": [
    {
     "name": "stdout",
     "output_type": "stream",
     "text": [
      "accuracy: 0.9820627802690582\n",
      "precision: 1.0\n",
      "recall: 0.875\n",
      "confusion matrix:\n",
      " [[955   0]\n",
      " [ 20 140]]\n"
     ]
    }
   ],
   "source": [
    "metrics_calculator(y_test, y_pred_dt)"
   ]
  },
  {
   "cell_type": "code",
   "execution_count": 66,
   "metadata": {},
   "outputs": [],
   "source": [
    "svm_model = SVC()"
   ]
  },
  {
   "cell_type": "code",
   "execution_count": 67,
   "metadata": {},
   "outputs": [
    {
     "data": {
      "text/html": [
       "<style>#sk-container-id-5 {color: black;}#sk-container-id-5 pre{padding: 0;}#sk-container-id-5 div.sk-toggleable {background-color: white;}#sk-container-id-5 label.sk-toggleable__label {cursor: pointer;display: block;width: 100%;margin-bottom: 0;padding: 0.3em;box-sizing: border-box;text-align: center;}#sk-container-id-5 label.sk-toggleable__label-arrow:before {content: \"▸\";float: left;margin-right: 0.25em;color: #696969;}#sk-container-id-5 label.sk-toggleable__label-arrow:hover:before {color: black;}#sk-container-id-5 div.sk-estimator:hover label.sk-toggleable__label-arrow:before {color: black;}#sk-container-id-5 div.sk-toggleable__content {max-height: 0;max-width: 0;overflow: hidden;text-align: left;background-color: #f0f8ff;}#sk-container-id-5 div.sk-toggleable__content pre {margin: 0.2em;color: black;border-radius: 0.25em;background-color: #f0f8ff;}#sk-container-id-5 input.sk-toggleable__control:checked~div.sk-toggleable__content {max-height: 200px;max-width: 100%;overflow: auto;}#sk-container-id-5 input.sk-toggleable__control:checked~label.sk-toggleable__label-arrow:before {content: \"▾\";}#sk-container-id-5 div.sk-estimator input.sk-toggleable__control:checked~label.sk-toggleable__label {background-color: #d4ebff;}#sk-container-id-5 div.sk-label input.sk-toggleable__control:checked~label.sk-toggleable__label {background-color: #d4ebff;}#sk-container-id-5 input.sk-hidden--visually {border: 0;clip: rect(1px 1px 1px 1px);clip: rect(1px, 1px, 1px, 1px);height: 1px;margin: -1px;overflow: hidden;padding: 0;position: absolute;width: 1px;}#sk-container-id-5 div.sk-estimator {font-family: monospace;background-color: #f0f8ff;border: 1px dotted black;border-radius: 0.25em;box-sizing: border-box;margin-bottom: 0.5em;}#sk-container-id-5 div.sk-estimator:hover {background-color: #d4ebff;}#sk-container-id-5 div.sk-parallel-item::after {content: \"\";width: 100%;border-bottom: 1px solid gray;flex-grow: 1;}#sk-container-id-5 div.sk-label:hover label.sk-toggleable__label {background-color: #d4ebff;}#sk-container-id-5 div.sk-serial::before {content: \"\";position: absolute;border-left: 1px solid gray;box-sizing: border-box;top: 0;bottom: 0;left: 50%;z-index: 0;}#sk-container-id-5 div.sk-serial {display: flex;flex-direction: column;align-items: center;background-color: white;padding-right: 0.2em;padding-left: 0.2em;position: relative;}#sk-container-id-5 div.sk-item {position: relative;z-index: 1;}#sk-container-id-5 div.sk-parallel {display: flex;align-items: stretch;justify-content: center;background-color: white;position: relative;}#sk-container-id-5 div.sk-item::before, #sk-container-id-5 div.sk-parallel-item::before {content: \"\";position: absolute;border-left: 1px solid gray;box-sizing: border-box;top: 0;bottom: 0;left: 50%;z-index: -1;}#sk-container-id-5 div.sk-parallel-item {display: flex;flex-direction: column;z-index: 1;position: relative;background-color: white;}#sk-container-id-5 div.sk-parallel-item:first-child::after {align-self: flex-end;width: 50%;}#sk-container-id-5 div.sk-parallel-item:last-child::after {align-self: flex-start;width: 50%;}#sk-container-id-5 div.sk-parallel-item:only-child::after {width: 0;}#sk-container-id-5 div.sk-dashed-wrapped {border: 1px dashed gray;margin: 0 0.4em 0.5em 0.4em;box-sizing: border-box;padding-bottom: 0.4em;background-color: white;}#sk-container-id-5 div.sk-label label {font-family: monospace;font-weight: bold;display: inline-block;line-height: 1.2em;}#sk-container-id-5 div.sk-label-container {text-align: center;}#sk-container-id-5 div.sk-container {/* jupyter's `normalize.less` sets `[hidden] { display: none; }` but bootstrap.min.css set `[hidden] { display: none !important; }` so we also need the `!important` here to be able to override the default hidden behavior on the sphinx rendered scikit-learn.org. See: https://github.com/scikit-learn/scikit-learn/issues/21755 */display: inline-block !important;position: relative;}#sk-container-id-5 div.sk-text-repr-fallback {display: none;}</style><div id=\"sk-container-id-5\" class=\"sk-top-container\"><div class=\"sk-text-repr-fallback\"><pre>SVC()</pre><b>In a Jupyter environment, please rerun this cell to show the HTML representation or trust the notebook. <br />On GitHub, the HTML representation is unable to render, please try loading this page with nbviewer.org.</b></div><div class=\"sk-container\" hidden><div class=\"sk-item\"><div class=\"sk-estimator sk-toggleable\"><input class=\"sk-toggleable__control sk-hidden--visually\" id=\"sk-estimator-id-5\" type=\"checkbox\" checked><label for=\"sk-estimator-id-5\" class=\"sk-toggleable__label sk-toggleable__label-arrow\">SVC</label><div class=\"sk-toggleable__content\"><pre>SVC()</pre></div></div></div></div></div>"
      ],
      "text/plain": [
       "SVC()"
      ]
     },
     "execution_count": 67,
     "metadata": {},
     "output_type": "execute_result"
    }
   ],
   "source": [
    "svm_model.fit(x_train, y_train)"
   ]
  },
  {
   "cell_type": "code",
   "execution_count": 68,
   "metadata": {},
   "outputs": [],
   "source": [
    "y_pred_svm = svm_model.predict(x_test)"
   ]
  },
  {
   "cell_type": "code",
   "execution_count": 69,
   "metadata": {},
   "outputs": [
    {
     "name": "stdout",
     "output_type": "stream",
     "text": [
      "accuracy: 0.9820627802690582\n",
      "precision: 1.0\n",
      "recall: 0.875\n",
      "confusion matrix:\n",
      " [[955   0]\n",
      " [ 20 140]]\n"
     ]
    }
   ],
   "source": [
    "metrics_calculator(y_test, y_pred_svm)"
   ]
  },
  {
   "cell_type": "code",
   "execution_count": 70,
   "metadata": {},
   "outputs": [],
   "source": [
    "mlp_model = MLPClassifier(hidden_layer_sizes=(32), solver='adam', alpha = 0.01, random_state=1)"
   ]
  },
  {
   "cell_type": "code",
   "execution_count": 71,
   "metadata": {},
   "outputs": [
    {
     "data": {
      "text/html": [
       "<style>#sk-container-id-6 {color: black;}#sk-container-id-6 pre{padding: 0;}#sk-container-id-6 div.sk-toggleable {background-color: white;}#sk-container-id-6 label.sk-toggleable__label {cursor: pointer;display: block;width: 100%;margin-bottom: 0;padding: 0.3em;box-sizing: border-box;text-align: center;}#sk-container-id-6 label.sk-toggleable__label-arrow:before {content: \"▸\";float: left;margin-right: 0.25em;color: #696969;}#sk-container-id-6 label.sk-toggleable__label-arrow:hover:before {color: black;}#sk-container-id-6 div.sk-estimator:hover label.sk-toggleable__label-arrow:before {color: black;}#sk-container-id-6 div.sk-toggleable__content {max-height: 0;max-width: 0;overflow: hidden;text-align: left;background-color: #f0f8ff;}#sk-container-id-6 div.sk-toggleable__content pre {margin: 0.2em;color: black;border-radius: 0.25em;background-color: #f0f8ff;}#sk-container-id-6 input.sk-toggleable__control:checked~div.sk-toggleable__content {max-height: 200px;max-width: 100%;overflow: auto;}#sk-container-id-6 input.sk-toggleable__control:checked~label.sk-toggleable__label-arrow:before {content: \"▾\";}#sk-container-id-6 div.sk-estimator input.sk-toggleable__control:checked~label.sk-toggleable__label {background-color: #d4ebff;}#sk-container-id-6 div.sk-label input.sk-toggleable__control:checked~label.sk-toggleable__label {background-color: #d4ebff;}#sk-container-id-6 input.sk-hidden--visually {border: 0;clip: rect(1px 1px 1px 1px);clip: rect(1px, 1px, 1px, 1px);height: 1px;margin: -1px;overflow: hidden;padding: 0;position: absolute;width: 1px;}#sk-container-id-6 div.sk-estimator {font-family: monospace;background-color: #f0f8ff;border: 1px dotted black;border-radius: 0.25em;box-sizing: border-box;margin-bottom: 0.5em;}#sk-container-id-6 div.sk-estimator:hover {background-color: #d4ebff;}#sk-container-id-6 div.sk-parallel-item::after {content: \"\";width: 100%;border-bottom: 1px solid gray;flex-grow: 1;}#sk-container-id-6 div.sk-label:hover label.sk-toggleable__label {background-color: #d4ebff;}#sk-container-id-6 div.sk-serial::before {content: \"\";position: absolute;border-left: 1px solid gray;box-sizing: border-box;top: 0;bottom: 0;left: 50%;z-index: 0;}#sk-container-id-6 div.sk-serial {display: flex;flex-direction: column;align-items: center;background-color: white;padding-right: 0.2em;padding-left: 0.2em;position: relative;}#sk-container-id-6 div.sk-item {position: relative;z-index: 1;}#sk-container-id-6 div.sk-parallel {display: flex;align-items: stretch;justify-content: center;background-color: white;position: relative;}#sk-container-id-6 div.sk-item::before, #sk-container-id-6 div.sk-parallel-item::before {content: \"\";position: absolute;border-left: 1px solid gray;box-sizing: border-box;top: 0;bottom: 0;left: 50%;z-index: -1;}#sk-container-id-6 div.sk-parallel-item {display: flex;flex-direction: column;z-index: 1;position: relative;background-color: white;}#sk-container-id-6 div.sk-parallel-item:first-child::after {align-self: flex-end;width: 50%;}#sk-container-id-6 div.sk-parallel-item:last-child::after {align-self: flex-start;width: 50%;}#sk-container-id-6 div.sk-parallel-item:only-child::after {width: 0;}#sk-container-id-6 div.sk-dashed-wrapped {border: 1px dashed gray;margin: 0 0.4em 0.5em 0.4em;box-sizing: border-box;padding-bottom: 0.4em;background-color: white;}#sk-container-id-6 div.sk-label label {font-family: monospace;font-weight: bold;display: inline-block;line-height: 1.2em;}#sk-container-id-6 div.sk-label-container {text-align: center;}#sk-container-id-6 div.sk-container {/* jupyter's `normalize.less` sets `[hidden] { display: none; }` but bootstrap.min.css set `[hidden] { display: none !important; }` so we also need the `!important` here to be able to override the default hidden behavior on the sphinx rendered scikit-learn.org. See: https://github.com/scikit-learn/scikit-learn/issues/21755 */display: inline-block !important;position: relative;}#sk-container-id-6 div.sk-text-repr-fallback {display: none;}</style><div id=\"sk-container-id-6\" class=\"sk-top-container\"><div class=\"sk-text-repr-fallback\"><pre>MLPClassifier(alpha=0.01, hidden_layer_sizes=32, random_state=1)</pre><b>In a Jupyter environment, please rerun this cell to show the HTML representation or trust the notebook. <br />On GitHub, the HTML representation is unable to render, please try loading this page with nbviewer.org.</b></div><div class=\"sk-container\" hidden><div class=\"sk-item\"><div class=\"sk-estimator sk-toggleable\"><input class=\"sk-toggleable__control sk-hidden--visually\" id=\"sk-estimator-id-6\" type=\"checkbox\" checked><label for=\"sk-estimator-id-6\" class=\"sk-toggleable__label sk-toggleable__label-arrow\">MLPClassifier</label><div class=\"sk-toggleable__content\"><pre>MLPClassifier(alpha=0.01, hidden_layer_sizes=32, random_state=1)</pre></div></div></div></div></div>"
      ],
      "text/plain": [
       "MLPClassifier(alpha=0.01, hidden_layer_sizes=32, random_state=1)"
      ]
     },
     "execution_count": 71,
     "metadata": {},
     "output_type": "execute_result"
    }
   ],
   "source": [
    "mlp_model.fit(x_train, y_train)"
   ]
  },
  {
   "cell_type": "code",
   "execution_count": 72,
   "metadata": {},
   "outputs": [],
   "source": [
    "y_pred_mlp = mlp_model.predict(x_test)"
   ]
  },
  {
   "cell_type": "code",
   "execution_count": 73,
   "metadata": {},
   "outputs": [
    {
     "name": "stdout",
     "output_type": "stream",
     "text": [
      "accuracy: 0.9865470852017937\n",
      "precision: 1.0\n",
      "recall: 0.90625\n",
      "confusion matrix:\n",
      " [[955   0]\n",
      " [ 15 145]]\n"
     ]
    }
   ],
   "source": [
    "metrics_calculator(y_test, y_pred_mlp)"
   ]
  }
 ],
 "metadata": {
  "kernelspec": {
   "display_name": "ML",
   "language": "python",
   "name": "python3"
  },
  "language_info": {
   "codemirror_mode": {
    "name": "ipython",
    "version": 3
   },
   "file_extension": ".py",
   "mimetype": "text/x-python",
   "name": "python",
   "nbconvert_exporter": "python",
   "pygments_lexer": "ipython3",
   "version": "3.11.5"
  }
 },
 "nbformat": 4,
 "nbformat_minor": 2
}
